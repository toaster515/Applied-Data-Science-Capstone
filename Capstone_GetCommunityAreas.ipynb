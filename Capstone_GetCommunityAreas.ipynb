{
 "cells": [
  {
   "cell_type": "code",
   "execution_count": 1,
   "metadata": {},
   "outputs": [],
   "source": [
    "#Libraries\n",
    "import pandas as pd\n",
    "import numpy as np\n",
    "import geopandas as gdp\n",
    "import matplotlib.pyplot as plt\n",
    "\n",
    "import requests\n",
    "from bs4 import BeautifulSoup\n",
    "import json\n",
    "from pandas.io.json import json_normalize\n",
    "\n",
    "from datetime import date\n",
    "import re\n",
    "\n"
   ]
  },
  {
   "cell_type": "code",
   "execution_count": 2,
   "metadata": {},
   "outputs": [],
   "source": [
    "def getwikitable(ext):\n",
    "    response = requests.get(url=ext)\n",
    "    soup = BeautifulSoup(response.content, 'html.parser')\n",
    "    tab = soup.find(\"table\")\n",
    "    return tab"
   ]
  },
  {
   "cell_type": "code",
   "execution_count": 3,
   "metadata": {},
   "outputs": [],
   "source": [
    "def getchildwiki(base, ext):\n",
    "    loc = base + ext\n",
    "    response = requests.get(url=loc)\n",
    "    soup = BeautifulSoup(response.content, 'html.parser')\n",
    "    try:\n",
    "        ctab = soup.find('table', class_='infobox geography vcard')\n",
    "        cbod = ctab.find('tbody')\n",
    "\n",
    "        rows = cbod.find_all('tr')\n",
    "\n",
    "        stuff = []\n",
    "        heads = []\n",
    "        for r in rows:\n",
    "            cols = r.find_all('td')\n",
    "            cols = [elem.text.strip() for elem in cols]\n",
    "            stuff.append([elem for elem in cols if elem])\n",
    "\n",
    "            cols = r.find_all('th')\n",
    "            cols = [elem.text.strip() for elem in cols]\n",
    "            heads.append([elem for elem in cols if elem])\n",
    "\n",
    "        Data = []\n",
    "        for x in range(0, len(stuff)):\n",
    "            if len(stuff[x])>0:\n",
    "                a=stuff[x][0]\n",
    "            else:\n",
    "                a=\"NaN\"\n",
    "\n",
    "            if len(heads[x])>0:\n",
    "                b=heads[x][0]\n",
    "            else:\n",
    "                b=\"NaN\"\n",
    "\n",
    "            Data.append([b,a])\n",
    "    except:\n",
    "        Data = 'NaN'\n",
    "\n",
    "    return Data"
   ]
  },
  {
   "cell_type": "code",
   "execution_count": 4,
   "metadata": {},
   "outputs": [],
   "source": [
    "def getchildgeo(base, ext):\n",
    "    loc = base + ext\n",
    "    response = requests.get(url=loc)\n",
    "    soup = BeautifulSoup(response.content, 'html.parser')\n",
    "    ctab = soup.find('table', class_='infobox geography vcard')\n",
    "\n",
    "    geo = ctab.find('span', class_='geo')\n",
    "    geo = geo.string.split(\"; \")\n",
    "    return geo"
   ]
  },
  {
   "cell_type": "code",
   "execution_count": 5,
   "metadata": {},
   "outputs": [],
   "source": [
    "def rawnum(numstr):\n",
    "\n",
    "    for x in range(0, len(numstr)-1):\n",
    "        if numstr[x]==\"[\":\n",
    "            numstr = numstr[0:x]\n",
    "            break\n",
    "            \n",
    "    for x in range(len(numstr)-1, -1, -1):\n",
    "        if not numstr[x].isnumeric():\n",
    "            if numstr[x]==\".\":\n",
    "                continue\n",
    "            else:\n",
    "                numstr = numstr.replace(numstr[x],\"\")\n",
    "    \n",
    "    return numstr"
   ]
  },
  {
   "cell_type": "code",
   "execution_count": 6,
   "metadata": {},
   "outputs": [],
   "source": [
    "def getwikiinc(Data):\n",
    "    inc = 0\n",
    "    for x in range(0, len(Data)):\n",
    "        if str(Data[x][0]).find('income') >=0:\n",
    "            inc = Data[x][1]\n",
    "            inc = rawnum(inc)\n",
    "            break\n",
    "    \n",
    "    return inc"
   ]
  },
  {
   "cell_type": "code",
   "execution_count": 7,
   "metadata": {},
   "outputs": [],
   "source": [
    "def parsewikihref(tab):\n",
    "    lst = []\n",
    "    for l in tab.find_all(\"a\"):\n",
    "        urll = l.get(\"href\",\"\")\n",
    "        lst.append(urll)\n",
    "    return lst"
   ]
  },
  {
   "cell_type": "code",
   "execution_count": 8,
   "metadata": {},
   "outputs": [
    {
     "name": "stdout",
     "output_type": "stream",
     "text": [
      "83\n"
     ]
    }
   ],
   "source": [
    "#Get List of wiki pages to pull from\n",
    "\n",
    "ext = \"https://en.wikipedia.org/wiki/Community_areas_in_Chicago\"\n",
    "tab = getwikitable(ext)\n",
    "hlst = parsewikihref(tab)\n",
    "hlst = list(set(hlst))\n",
    "print(len(hlst))"
   ]
  },
  {
   "cell_type": "code",
   "execution_count": 9,
   "metadata": {},
   "outputs": [],
   "source": [
    "hlst = [x for x in hlst if not x.startswith('#') and not x.startswith('https')]"
   ]
  },
  {
   "cell_type": "code",
   "execution_count": 10,
   "metadata": {},
   "outputs": [
    {
     "name": "stdout",
     "output_type": "stream",
     "text": [
      "77\n"
     ]
    }
   ],
   "source": [
    "print(len(hlst))"
   ]
  },
  {
   "cell_type": "code",
   "execution_count": 11,
   "metadata": {
    "scrolled": true
   },
   "outputs": [
    {
     "name": "stdout",
     "output_type": "stream",
     "text": [
      "/wiki/Washington_Heights,_Chicago\n",
      "/wiki/Greater_Grand_Crossing,_Chicago\n",
      "/wiki/East_Side,_Chicago\n",
      "/wiki/Forest_Glen,_Chicago\n",
      "/wiki/Ashburn,_Chicago\n",
      "/wiki/North_Center,_Chicago\n",
      "/wiki/Montclare,_Chicago\n",
      "/wiki/Lake_View,_Chicago\n",
      "/wiki/Avalon_Park,_Chicago\n",
      "/wiki/Riverdale,_Chicago\n",
      "/wiki/Near_South_Side,_Chicago\n",
      "/wiki/Rogers_Park,_Chicago\n",
      "/wiki/South_Chicago,_Chicago\n",
      "/wiki/Humboldt_Park,_Chicago\n",
      "/wiki/West_Elsdon,_Chicago\n",
      "/wiki/Woodlawn,_Chicago\n",
      "/wiki/West_Lawn,_Chicago\n",
      "/wiki/Near_West_Side,_Chicago\n",
      "/wiki/O%27Hare,_Chicago\n",
      "/wiki/West_Ridge,_Chicago\n",
      "/wiki/Grand_Boulevard,_Chicago\n",
      "/wiki/Douglas,_Chicago\n",
      "/wiki/Chicago_Lawn,_Chicago\n",
      "/wiki/West_Pullman,_Chicago\n",
      "/wiki/West_Englewood,_Chicago\n",
      "/wiki/Fuller_Park,_Chicago\n",
      "/wiki/Portage_Park,_Chicago\n",
      "/wiki/Clearing,_Chicago\n",
      "/wiki/Lower_West_Side,_Chicago\n",
      "/wiki/Gage_Park,_Chicago\n",
      "/wiki/South_Deering,_Chicago\n",
      "/wiki/Englewood,_Chicago\n",
      "/wiki/Uptown,_Chicago\n",
      "/wiki/Garfield_Ridge,_Chicago\n",
      "/wiki/Armour_Square,_Chicago\n",
      "/wiki/Archer_Heights,_Chicago\n",
      "/wiki/Near_North_Side,_Chicago\n",
      "/wiki/West_Town,_Chicago\n",
      "/wiki/Avondale,_Chicago\n",
      "/wiki/Dunning,_Chicago\n",
      "/wiki/Lincoln_Square,_Chicago\n",
      "/wiki/East_Garfield_Park,_Chicago\n",
      "/wiki/Chatham,_Chicago\n",
      "/wiki/Jefferson_Park,_Chicago\n",
      "/wiki/Beverly,_Chicago\n",
      "/wiki/Mount_Greenwood,_Chicago\n",
      "/wiki/Belmont_Cragin,_Chicago\n",
      "/wiki/Logan_Square,_Chicago\n",
      "/wiki/Roseland,_Chicago\n",
      "/wiki/Brighton_Park,_Chicago\n",
      "/wiki/Oakland,_Chicago\n",
      "/wiki/Morgan_Park,_Chicago\n",
      "/wiki/Edgewater,_Chicago\n",
      "/wiki/Hyde_Park,_Chicago\n",
      "/wiki/Burnside,_Chicago\n",
      "/wiki/Edison_Park,_Chicago\n",
      "/wiki/Irving_Park,_Chicago\n",
      "/wiki/Bridgeport,_Chicago\n",
      "/wiki/Washington_Park_(community_area),_Chicago\n",
      "/wiki/Norwood_Park,_Chicago\n",
      "/wiki/North_Lawndale,_Chicago\n",
      "/wiki/South_Lawndale,_Chicago\n",
      "/wiki/Lincoln_Park,_Chicago\n",
      "/wiki/New_City,_Chicago\n",
      "/wiki/McKinley_Park,_Chicago\n",
      "/wiki/Hermosa,_Chicago\n",
      "/wiki/Pullman,_Chicago\n",
      "/wiki/Chicago_Loop\n",
      "/wiki/Auburn_Gresham,_Chicago\n",
      "/wiki/Hegewisch,_Chicago\n",
      "/wiki/Kenwood,_Chicago\n",
      "/wiki/North_Park,_Chicago\n",
      "/wiki/Calumet_Heights,_Chicago\n",
      "/wiki/West_Garfield_Park,_Chicago\n",
      "/wiki/Albany_Park,_Chicago\n",
      "/wiki/Austin,_Chicago\n",
      "/wiki/South_Shore,_Chicago\n"
     ]
    },
    {
     "data": {
      "text/plain": [
       "[['Washington Heights', 0, '41.70383', '-87.65367'],\n",
       " ['Greater Grand Crossing', '26515', '41.7600', '-87.6100'],\n",
       " ['East Side', '43421', '41.7000', '-87.5600'],\n",
       " ['Forest Glen', '101559', '41.983', '-87.750'],\n",
       " ['Ashburn', '63573', '41.7500', '-87.7100'],\n",
       " ['North Center', '115756', '41.950', '-87.6800'],\n",
       " ['Montclare', '43015', '41.9300', '-87.800'],\n",
       " ['Lakeview', '89276', '41.94350', '-87.65417'],\n",
       " ['Avalon Park', '41531', '41.750', '-87.5900'],\n",
       " ['Riverdale', '13518', '41.6600', '-87.6100'],\n",
       " ['Near South Side', '100720', '41.85778', '-87.62389'],\n",
       " ['Rogers Park', '37223', '42.0100', '-87.6700'],\n",
       " ['South Chicago', '28504', '41.7400', '-87.550'],\n",
       " ['Humboldt Park', 0, '41.8800', '-87.700'],\n",
       " ['West Elsdon', '55380', '41.7900', '-87.7200'],\n",
       " ['Woodlawn', '26415', '41.7800', '-87.600'],\n",
       " ['West Lawn', '50384', '41.7700', '-87.7200'],\n",
       " ['Near West Side', '83575', '41.8700', '-87.6700'],\n",
       " [\"O'Hare\", '49295', '42.0000', '-87.9200'],\n",
       " ['West Ridge', '52039', '42.000', '-87.6900'],\n",
       " ['Grand Boulevard', '32348', '41.8100', '-87.6200'],\n",
       " ['Douglas', '31509', '41.83472', '-87.62056'],\n",
       " ['Chicago Lawn', '33122', '41.7700', '-87.6900'],\n",
       " ['West Pullman', '33898', '41.6800', '-87.6300'],\n",
       " ['West Englewood', '27399', '41.77583', '-87.66417'],\n",
       " ['Fuller Park', '22920', '41.8100', '-87.6267'],\n",
       " ['Portage Park', '66309', '41.950', '-87.7600'],\n",
       " ['Clearing', '60624', '41.7800', '-87.7600'],\n",
       " ['Lower West Side\\nPilsen', '45204', '41.850', '-87.6600'],\n",
       " ['Gage Park', '41182', '41.7900', '-87.6900'],\n",
       " ['South Deering', '35056', '41.7100', '-87.5600'],\n",
       " ['Englewood', '21275', '41.78000', '-87.64500'],\n",
       " ['Uptown', '51889', '41.9700', '-87.6600'],\n",
       " ['Garfield Ridge', 0, '41.8167', '-87.7600'],\n",
       " ['Armour Square', '27464', '41.8333', '-87.6333'],\n",
       " ['Archer Heights', '44109', '41.8100', '-87.7300'],\n",
       " ['Near North Side', '99732', '41.900', '-87.6300'],\n",
       " ['West Town', '96499', '41.900', '-87.6800'],\n",
       " ['Avondale', '60000', '41.9400', '-87.7100'],\n",
       " ['Dunning', '59737', '41.950', '-87.8100'],\n",
       " ['Lincoln Square', '73621', '41.9700', '-87.6900'],\n",
       " ['East Garfield Park', '21482', '41.8800', '-87.700'],\n",
       " ['Chatham', '32222', '41.74000', '-87.61167'],\n",
       " ['Jefferson Park', '76054', '41.9800', '-87.7700'],\n",
       " ['Beverly', '98416', '41.7100', '-87.6800'],\n",
       " ['Mount Greenwood', '89536', '41.7000', '-87.7100'],\n",
       " ['Belmont Cragin', '50767', '41.9300', '-87.7600'],\n",
       " ['Logan Square', '75333', '41.9283', '-87.7067'],\n",
       " ['Roseland', '37242', '41.7100', '-87.6200'],\n",
       " ['Brighton Park', '41176', '41.8200', '-87.7000'],\n",
       " ['Oakland', '28436', '41.8200', '-87.6000'],\n",
       " ['Morgan Park', '60747', '41.6900', '-87.6700'],\n",
       " ['Edgewater', '53183', '41.9900', '-87.6600'],\n",
       " ['Hyde Park', '54140', '41.800', '-87.5900'],\n",
       " ['Burnside', '23632', '41.7300', '-87.600'],\n",
       " ['Edison Park', '86300', '42.0100', '-87.8100'],\n",
       " ['Irving Park', '64598', '41.950', '-87.7300'],\n",
       " ['Bridgeport', '50580', '41.83750', '-87.64750'],\n",
       " ['Washington Park', '27458', '41.7900', '-87.6200'],\n",
       " ['Norwood Park', '71282', '41.9800', '-87.8000'],\n",
       " ['North Lawndale', '26781', '41.8600', '-87.7100'],\n",
       " ['South Lawndale\\nLittle Village', '30701', '41.8500', '-87.7100'],\n",
       " ['Lincoln Park', '108875', '41.9200', '-87.650'],\n",
       " ['New City\\nBack of the Yards/Canaryville', '33227', '41.8100', '-87.6600'],\n",
       " ['McKinley Park', '46112', '41.830', '-87.670'],\n",
       " ['Hermosa', '39157', '41.9200', '-87.7300'],\n",
       " ['Pullman', '36728', '41.7100', '-87.6200'],\n",
       " ['The Loop', '107246', '41.88194', '-87.62778'],\n",
       " ['Auburn Gresham', '29389', '41.7400', '-87.6600'],\n",
       " ['Hegewisch', '50338', '41.6600', '-87.5500'],\n",
       " ['Kenwood', '49161', '41.8100', '-87.6000'],\n",
       " ['North Park', '54828', '41.9500', '-87.6800'],\n",
       " ['Calumet Heights', '49923', '41.72833', '-87.57972'],\n",
       " ['West Garfield Park', '23947', '41.8800', '-87.7300'],\n",
       " ['Albany Park', '59883', '41.9700', '-87.7200'],\n",
       " ['Austin', '31634', '41.900', '-87.7600'],\n",
       " ['South Shore', '26425', '41.7600', '-87.5800']]"
      ]
     },
     "execution_count": 11,
     "metadata": {},
     "output_type": "execute_result"
    }
   ],
   "source": [
    "base = \"https://en.wikipedia.org\"\n",
    "dset = []\n",
    "for x in hlst:\n",
    "    print(x)\n",
    "    cw = getchildwiki(base, x)\n",
    "    try:\n",
    "        geo = getchildgeo(base, x)\n",
    "    except:\n",
    "        geo = ['NaN','NaN']\n",
    "    try:\n",
    "        inc = getwikiinc(cw)\n",
    "    except:\n",
    "        inc = 'NaN'\n",
    "    \n",
    "    line = [cw[0][0], inc, geo[0], geo[1]]\n",
    "    dset.append(line)\n",
    "\n",
    "dset"
   ]
  },
  {
   "cell_type": "code",
   "execution_count": 12,
   "metadata": {},
   "outputs": [
    {
     "data": {
      "text/plain": [
       "(77, 4)"
      ]
     },
     "execution_count": 12,
     "metadata": {},
     "output_type": "execute_result"
    }
   ],
   "source": [
    "df = pd.DataFrame(dset)\n",
    "df.shape"
   ]
  },
  {
   "cell_type": "code",
   "execution_count": 13,
   "metadata": {},
   "outputs": [],
   "source": [
    "df.columns = ['Geology', 'Income', 'Lat', 'Long']"
   ]
  },
  {
   "cell_type": "code",
   "execution_count": 15,
   "metadata": {},
   "outputs": [],
   "source": [
    "#df.to_csv('ChiCommunityAreas.csv', index=False)"
   ]
  }
 ],
 "metadata": {
  "kernelspec": {
   "display_name": "Python 3",
   "language": "python",
   "name": "python3"
  },
  "language_info": {
   "codemirror_mode": {
    "name": "ipython",
    "version": 3
   },
   "file_extension": ".py",
   "mimetype": "text/x-python",
   "name": "python",
   "nbconvert_exporter": "python",
   "pygments_lexer": "ipython3",
   "version": "3.9.2"
  }
 },
 "nbformat": 4,
 "nbformat_minor": 4
}
